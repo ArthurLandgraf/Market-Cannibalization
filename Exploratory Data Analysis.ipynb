{
 "cells": [
  {
   "cell_type": "markdown",
   "id": "59705ee4",
   "metadata": {},
   "source": [
    "# Market Overlap\n",
    "\n",
    "### SCENARIO\n",
    "\n",
    "The scenario is: A ficticious company named 'Alpha' is interested in acquiring another ficticious company named 'Beta'. They both belong to the hotelling industry, more specifically they are marketplaces for hotels to announce their accomodation details as well as handle all the booking process with travellers.\n",
    "\n",
    "### UNDERSTANDING THE COMPANIES\n",
    "\n",
    "__Alpha__ offer hotels in destinations worldwide. They've entered Brazil's market recently and have been investing in Facebook and Google Ads to get more hotels to publish in their marketplace. However, the CAC (customer acquisition cost) to get more hotels on board is too high and after several weeks trying to improve performance Alpha's board have decided to look for other options of increasing the number of hotels in their marketplace.\n",
    "\n",
    "__Beta__ on the other hand, operates only in Brazil and although has a smaller scale than Alpha overall, it has a considerable amount of hotels already on board and operating.\n",
    "\n",
    "### WHY THE MARKET OVERLAP ANALYSIS\n",
    "\n",
    "Seeking a way to reduce the CAC, Alpha has made a move to buy Beta with all it's hotels and marketplace service. Even though Beta has shown interest on the deal, Alpha still want's to look at some real data in order to reach the conclusion if the CAC would really be lower than their current marketing investments.\n",
    "\n",
    "As of now, both companies does not know if their hotels are unique to them or actually common between both, as its a common practice among hotels to publish their accomodations in different marketplaces.\n",
    "\n",
    "### STEPS FOR THE ANALYSIS\n",
    "\n",
    "1) Setting up\n",
    "\n",
    "2) Data cleaning\n",
    "\n",
    "3) Overlap Analysis\n",
    "\n",
    "4) Conclusions\n"
   ]
  },
  {
   "cell_type": "markdown",
   "id": "e02b0010",
   "metadata": {},
   "source": [
    "---\n",
    "\n",
    "## 1) Setting Up\n",
    "\n",
    "- Reading files;\n",
    "- Standardizing columns."
   ]
  },
  {
   "cell_type": "code",
   "execution_count": 1,
   "id": "e5ec2e91",
   "metadata": {},
   "outputs": [],
   "source": [
    "import pandas as pd\n",
    "import matplotlib.pyplot as plt\n",
    "%matplotlib inline"
   ]
  },
  {
   "cell_type": "code",
   "execution_count": 2,
   "id": "f531abc3",
   "metadata": {},
   "outputs": [],
   "source": [
    "dtype = {\n",
    "    'registration_id': str\n",
    "}\n",
    "\n",
    "parse_dates = [\n",
    "    'registration_date',\n",
    "    'latest_booking'\n",
    "]\n",
    "\n",
    "alpha = pd.read_csv(\n",
    "    'alpha_hotels.csv',\n",
    "    dtype=dtype,\n",
    "    parse_dates=parse_dates\n",
    ")"
   ]
  },
  {
   "cell_type": "code",
   "execution_count": 3,
   "id": "561a7a94",
   "metadata": {},
   "outputs": [
    {
     "name": "stdout",
     "output_type": "stream",
     "text": [
      "<class 'pandas.core.frame.DataFrame'>\n",
      "RangeIndex: 1843 entries, 0 to 1842\n",
      "Data columns (total 9 columns):\n",
      " #   Column             Non-Null Count  Dtype         \n",
      "---  ------             --------------  -----         \n",
      " 0   id                 1843 non-null   int64         \n",
      " 1   hotel_name         1843 non-null   object        \n",
      " 2   address            1843 non-null   object        \n",
      " 3   city               1843 non-null   object        \n",
      " 4   country            1843 non-null   object        \n",
      " 5   registration_date  1843 non-null   datetime64[ns]\n",
      " 6   latest_booking     1843 non-null   datetime64[ns]\n",
      " 7   total_bookings     1843 non-null   int64         \n",
      " 8   registration_id    1843 non-null   object        \n",
      "dtypes: datetime64[ns](2), int64(2), object(5)\n",
      "memory usage: 129.7+ KB\n"
     ]
    }
   ],
   "source": [
    "alpha.info()"
   ]
  },
  {
   "cell_type": "code",
   "execution_count": 4,
   "id": "caa0e4a5",
   "metadata": {},
   "outputs": [
    {
     "data": {
      "text/html": [
       "<div>\n",
       "<style scoped>\n",
       "    .dataframe tbody tr th:only-of-type {\n",
       "        vertical-align: middle;\n",
       "    }\n",
       "\n",
       "    .dataframe tbody tr th {\n",
       "        vertical-align: top;\n",
       "    }\n",
       "\n",
       "    .dataframe thead th {\n",
       "        text-align: right;\n",
       "    }\n",
       "</style>\n",
       "<table border=\"1\" class=\"dataframe\">\n",
       "  <thead>\n",
       "    <tr style=\"text-align: right;\">\n",
       "      <th></th>\n",
       "      <th>id</th>\n",
       "      <th>hotel_name</th>\n",
       "      <th>address</th>\n",
       "      <th>city</th>\n",
       "      <th>country</th>\n",
       "      <th>registration_date</th>\n",
       "      <th>latest_booking</th>\n",
       "      <th>total_bookings</th>\n",
       "      <th>registration_id</th>\n",
       "    </tr>\n",
       "  </thead>\n",
       "  <tbody>\n",
       "    <tr>\n",
       "      <th>0</th>\n",
       "      <td>1</td>\n",
       "      <td>Altenwerth-Wilderman</td>\n",
       "      <td>55 Buhler Place</td>\n",
       "      <td>São Paulo</td>\n",
       "      <td>BR</td>\n",
       "      <td>2021-01-01</td>\n",
       "      <td>2021-05-05</td>\n",
       "      <td>74</td>\n",
       "      <td>439781659462</td>\n",
       "    </tr>\n",
       "    <tr>\n",
       "      <th>1</th>\n",
       "      <td>2</td>\n",
       "      <td>Mayer LLC</td>\n",
       "      <td>78279 Brown Crossing</td>\n",
       "      <td>Santos</td>\n",
       "      <td>BR</td>\n",
       "      <td>2021-01-01</td>\n",
       "      <td>2021-06-21</td>\n",
       "      <td>329</td>\n",
       "      <td>686594413636</td>\n",
       "    </tr>\n",
       "    <tr>\n",
       "      <th>2</th>\n",
       "      <td>3</td>\n",
       "      <td>Durgan-Ullrich</td>\n",
       "      <td>5 Independence Place</td>\n",
       "      <td>Fortaleza</td>\n",
       "      <td>BR</td>\n",
       "      <td>2021-01-01</td>\n",
       "      <td>2021-02-24</td>\n",
       "      <td>352</td>\n",
       "      <td>916600154620</td>\n",
       "    </tr>\n",
       "    <tr>\n",
       "      <th>3</th>\n",
       "      <td>4</td>\n",
       "      <td>Johnston-Osinski</td>\n",
       "      <td>8230 Warbler Plaza</td>\n",
       "      <td>Fortaleza</td>\n",
       "      <td>BR</td>\n",
       "      <td>2021-01-01</td>\n",
       "      <td>2021-08-23</td>\n",
       "      <td>572</td>\n",
       "      <td>343118084017</td>\n",
       "    </tr>\n",
       "    <tr>\n",
       "      <th>4</th>\n",
       "      <td>5</td>\n",
       "      <td>Simonis, Grimes and Okuneva</td>\n",
       "      <td>48 Dahle Terrace</td>\n",
       "      <td>Brasilia</td>\n",
       "      <td>BR</td>\n",
       "      <td>2021-01-01</td>\n",
       "      <td>2021-09-19</td>\n",
       "      <td>547</td>\n",
       "      <td>598986938353</td>\n",
       "    </tr>\n",
       "  </tbody>\n",
       "</table>\n",
       "</div>"
      ],
      "text/plain": [
       "   id                   hotel_name               address       city country  \\\n",
       "0   1         Altenwerth-Wilderman       55 Buhler Place  São Paulo      BR   \n",
       "1   2                    Mayer LLC  78279 Brown Crossing     Santos      BR   \n",
       "2   3               Durgan-Ullrich  5 Independence Place  Fortaleza      BR   \n",
       "3   4             Johnston-Osinski    8230 Warbler Plaza  Fortaleza      BR   \n",
       "4   5  Simonis, Grimes and Okuneva      48 Dahle Terrace   Brasilia      BR   \n",
       "\n",
       "  registration_date latest_booking  total_bookings registration_id  \n",
       "0        2021-01-01     2021-05-05              74    439781659462  \n",
       "1        2021-01-01     2021-06-21             329    686594413636  \n",
       "2        2021-01-01     2021-02-24             352    916600154620  \n",
       "3        2021-01-01     2021-08-23             572    343118084017  \n",
       "4        2021-01-01     2021-09-19             547    598986938353  "
      ]
     },
     "execution_count": 4,
     "metadata": {},
     "output_type": "execute_result"
    }
   ],
   "source": [
    "alpha.head()"
   ]
  },
  {
   "cell_type": "code",
   "execution_count": 5,
   "id": "75a97dc0",
   "metadata": {},
   "outputs": [],
   "source": [
    "dtype = {\n",
    "    'Registration Id': str\n",
    "}\n",
    "\n",
    "parse_dates = [\n",
    "    'Registration Date',\n",
    "    'Last Booking'\n",
    "]\n",
    "\n",
    "beta = pd.read_csv(\n",
    "    'Beta Hotels.csv',\n",
    "    dtype=dtype,\n",
    "    parse_dates=parse_dates\n",
    ")"
   ]
  },
  {
   "cell_type": "code",
   "execution_count": 6,
   "id": "67013af5",
   "metadata": {
    "scrolled": false
   },
   "outputs": [
    {
     "name": "stdout",
     "output_type": "stream",
     "text": [
      "<class 'pandas.core.frame.DataFrame'>\n",
      "RangeIndex: 2601 entries, 0 to 2600\n",
      "Data columns (total 8 columns):\n",
      " #   Column             Non-Null Count  Dtype         \n",
      "---  ------             --------------  -----         \n",
      " 0   Id                 2601 non-null   int64         \n",
      " 1   Hotel Name         2601 non-null   object        \n",
      " 2   Address            2601 non-null   object        \n",
      " 3   City State         2601 non-null   object        \n",
      " 4   Registration Date  2601 non-null   datetime64[ns]\n",
      " 5   Last Booking       2601 non-null   datetime64[ns]\n",
      " 6   Total Bookings     2601 non-null   int64         \n",
      " 7   Registration Id    2601 non-null   object        \n",
      "dtypes: datetime64[ns](2), int64(2), object(4)\n",
      "memory usage: 162.7+ KB\n"
     ]
    }
   ],
   "source": [
    "beta.info()"
   ]
  },
  {
   "cell_type": "code",
   "execution_count": 7,
   "id": "4df0b254",
   "metadata": {},
   "outputs": [
    {
     "data": {
      "text/html": [
       "<div>\n",
       "<style scoped>\n",
       "    .dataframe tbody tr th:only-of-type {\n",
       "        vertical-align: middle;\n",
       "    }\n",
       "\n",
       "    .dataframe tbody tr th {\n",
       "        vertical-align: top;\n",
       "    }\n",
       "\n",
       "    .dataframe thead th {\n",
       "        text-align: right;\n",
       "    }\n",
       "</style>\n",
       "<table border=\"1\" class=\"dataframe\">\n",
       "  <thead>\n",
       "    <tr style=\"text-align: right;\">\n",
       "      <th></th>\n",
       "      <th>Id</th>\n",
       "      <th>Hotel Name</th>\n",
       "      <th>Address</th>\n",
       "      <th>City State</th>\n",
       "      <th>Registration Date</th>\n",
       "      <th>Last Booking</th>\n",
       "      <th>Total Bookings</th>\n",
       "      <th>Registration Id</th>\n",
       "    </tr>\n",
       "  </thead>\n",
       "  <tbody>\n",
       "    <tr>\n",
       "      <th>0</th>\n",
       "      <td>1</td>\n",
       "      <td>Smith-West</td>\n",
       "      <td>5 Logan Center</td>\n",
       "      <td>Porto Alegre - RS</td>\n",
       "      <td>2019-05-15</td>\n",
       "      <td>2021-04-12</td>\n",
       "      <td>204</td>\n",
       "      <td>541486358072</td>\n",
       "    </tr>\n",
       "    <tr>\n",
       "      <th>1</th>\n",
       "      <td>2</td>\n",
       "      <td>Skiles-Feil</td>\n",
       "      <td>418 Luster Street</td>\n",
       "      <td>Brasilia - DF</td>\n",
       "      <td>2019-05-28</td>\n",
       "      <td>2021-09-27</td>\n",
       "      <td>673</td>\n",
       "      <td>402349901939</td>\n",
       "    </tr>\n",
       "    <tr>\n",
       "      <th>2</th>\n",
       "      <td>3</td>\n",
       "      <td>Hills, Welch and Bernier</td>\n",
       "      <td>16 Superior Pass</td>\n",
       "      <td>Brasilia - DF</td>\n",
       "      <td>2019-06-02</td>\n",
       "      <td>2021-04-29</td>\n",
       "      <td>540</td>\n",
       "      <td>270040626150</td>\n",
       "    </tr>\n",
       "    <tr>\n",
       "      <th>3</th>\n",
       "      <td>4</td>\n",
       "      <td>Feeney-Tillman</td>\n",
       "      <td>42135 Di Loreto Crossing</td>\n",
       "      <td>Porto Alegre - RS</td>\n",
       "      <td>2019-06-17</td>\n",
       "      <td>2021-09-29</td>\n",
       "      <td>316</td>\n",
       "      <td>509930155842</td>\n",
       "    </tr>\n",
       "    <tr>\n",
       "      <th>4</th>\n",
       "      <td>5</td>\n",
       "      <td>Nitzsche Inc</td>\n",
       "      <td>11432 Westport Center</td>\n",
       "      <td>Fortaleza - CE</td>\n",
       "      <td>2019-06-21</td>\n",
       "      <td>2021-05-24</td>\n",
       "      <td>623</td>\n",
       "      <td>929930403364</td>\n",
       "    </tr>\n",
       "  </tbody>\n",
       "</table>\n",
       "</div>"
      ],
      "text/plain": [
       "   Id                Hotel Name                   Address         City State  \\\n",
       "0   1                Smith-West            5 Logan Center  Porto Alegre - RS   \n",
       "1   2               Skiles-Feil         418 Luster Street      Brasilia - DF   \n",
       "2   3  Hills, Welch and Bernier          16 Superior Pass      Brasilia - DF   \n",
       "3   4            Feeney-Tillman  42135 Di Loreto Crossing  Porto Alegre - RS   \n",
       "4   5              Nitzsche Inc     11432 Westport Center     Fortaleza - CE   \n",
       "\n",
       "  Registration Date Last Booking  Total Bookings Registration Id  \n",
       "0        2019-05-15   2021-04-12             204    541486358072  \n",
       "1        2019-05-28   2021-09-27             673    402349901939  \n",
       "2        2019-06-02   2021-04-29             540    270040626150  \n",
       "3        2019-06-17   2021-09-29             316    509930155842  \n",
       "4        2019-06-21   2021-05-24             623    929930403364  "
      ]
     },
     "execution_count": 7,
     "metadata": {},
     "output_type": "execute_result"
    }
   ],
   "source": [
    "beta.head()"
   ]
  },
  {
   "cell_type": "markdown",
   "id": "4735a473",
   "metadata": {},
   "source": [
    "__Key findings__\n",
    "- Seems like the files don't contain 'null' values\n",
    "- Alpha has the column names formatted as snake_case (best to be kept this way)\n",
    "- Beta has column names containing spaces and with an unecessary formatting\n",
    "\n",
    "> Next let's rename Beta columns to align with Alpha's."
   ]
  },
  {
   "cell_type": "code",
   "execution_count": 8,
   "id": "4abcb6cd",
   "metadata": {
    "scrolled": false
   },
   "outputs": [
    {
     "data": {
      "text/html": [
       "<div>\n",
       "<style scoped>\n",
       "    .dataframe tbody tr th:only-of-type {\n",
       "        vertical-align: middle;\n",
       "    }\n",
       "\n",
       "    .dataframe tbody tr th {\n",
       "        vertical-align: top;\n",
       "    }\n",
       "\n",
       "    .dataframe thead th {\n",
       "        text-align: right;\n",
       "    }\n",
       "</style>\n",
       "<table border=\"1\" class=\"dataframe\">\n",
       "  <thead>\n",
       "    <tr style=\"text-align: right;\">\n",
       "      <th></th>\n",
       "      <th>id</th>\n",
       "      <th>hotel_name</th>\n",
       "      <th>address</th>\n",
       "      <th>city_state</th>\n",
       "      <th>registration_date</th>\n",
       "      <th>latest_booking</th>\n",
       "      <th>total_bookings</th>\n",
       "      <th>registration_id</th>\n",
       "    </tr>\n",
       "  </thead>\n",
       "  <tbody>\n",
       "    <tr>\n",
       "      <th>0</th>\n",
       "      <td>1</td>\n",
       "      <td>Smith-West</td>\n",
       "      <td>5 Logan Center</td>\n",
       "      <td>Porto Alegre - RS</td>\n",
       "      <td>2019-05-15</td>\n",
       "      <td>2021-04-12</td>\n",
       "      <td>204</td>\n",
       "      <td>541486358072</td>\n",
       "    </tr>\n",
       "    <tr>\n",
       "      <th>1</th>\n",
       "      <td>2</td>\n",
       "      <td>Skiles-Feil</td>\n",
       "      <td>418 Luster Street</td>\n",
       "      <td>Brasilia - DF</td>\n",
       "      <td>2019-05-28</td>\n",
       "      <td>2021-09-27</td>\n",
       "      <td>673</td>\n",
       "      <td>402349901939</td>\n",
       "    </tr>\n",
       "    <tr>\n",
       "      <th>2</th>\n",
       "      <td>3</td>\n",
       "      <td>Hills, Welch and Bernier</td>\n",
       "      <td>16 Superior Pass</td>\n",
       "      <td>Brasilia - DF</td>\n",
       "      <td>2019-06-02</td>\n",
       "      <td>2021-04-29</td>\n",
       "      <td>540</td>\n",
       "      <td>270040626150</td>\n",
       "    </tr>\n",
       "    <tr>\n",
       "      <th>3</th>\n",
       "      <td>4</td>\n",
       "      <td>Feeney-Tillman</td>\n",
       "      <td>42135 Di Loreto Crossing</td>\n",
       "      <td>Porto Alegre - RS</td>\n",
       "      <td>2019-06-17</td>\n",
       "      <td>2021-09-29</td>\n",
       "      <td>316</td>\n",
       "      <td>509930155842</td>\n",
       "    </tr>\n",
       "    <tr>\n",
       "      <th>4</th>\n",
       "      <td>5</td>\n",
       "      <td>Nitzsche Inc</td>\n",
       "      <td>11432 Westport Center</td>\n",
       "      <td>Fortaleza - CE</td>\n",
       "      <td>2019-06-21</td>\n",
       "      <td>2021-05-24</td>\n",
       "      <td>623</td>\n",
       "      <td>929930403364</td>\n",
       "    </tr>\n",
       "  </tbody>\n",
       "</table>\n",
       "</div>"
      ],
      "text/plain": [
       "   id                hotel_name                   address         city_state  \\\n",
       "0   1                Smith-West            5 Logan Center  Porto Alegre - RS   \n",
       "1   2               Skiles-Feil         418 Luster Street      Brasilia - DF   \n",
       "2   3  Hills, Welch and Bernier          16 Superior Pass      Brasilia - DF   \n",
       "3   4            Feeney-Tillman  42135 Di Loreto Crossing  Porto Alegre - RS   \n",
       "4   5              Nitzsche Inc     11432 Westport Center     Fortaleza - CE   \n",
       "\n",
       "  registration_date latest_booking  total_bookings registration_id  \n",
       "0        2019-05-15     2021-04-12             204    541486358072  \n",
       "1        2019-05-28     2021-09-27             673    402349901939  \n",
       "2        2019-06-02     2021-04-29             540    270040626150  \n",
       "3        2019-06-17     2021-09-29             316    509930155842  \n",
       "4        2019-06-21     2021-05-24             623    929930403364  "
      ]
     },
     "execution_count": 8,
     "metadata": {},
     "output_type": "execute_result"
    }
   ],
   "source": [
    "new_cols = {\n",
    "    'Id': 'id',\n",
    "    'Hotel Name': 'hotel_name',\n",
    "    'Address': 'addreinconsistencies;\n",
    "Ensuring bothss',\n",
    "    'City State': 'city_state',\n",
    "    'Registration Date': 'registration_date',\n",
    "    'Last Booking': 'latest_booking',\n",
    "    'Total Bookings': 'total_bookings',\n",
    "    'Registration Id': 'registration_id'\n",
    "}\n",
    "\n",
    "beta.rename(new_cols, axis=1, inplace=True)\n",
    "beta.head()"
   ]
  },
  {
   "cell_type": "markdown",
   "id": "19698be5",
   "metadata": {},
   "source": [
    "---\n",
    "\n",
    "## 2) Data Cleaning\n",
    "\n",
    "- Checking for inconsistencies;\n",
    "- Ensuring both datasets follow the same pattern for same property."
   ]
  },
  {
   "cell_type": "markdown",
   "id": "25a1e56f",
   "metadata": {},
   "source": [
    "> During the column renaming I noticed the 'location' properties difer in both datasets. Alpha has only 'city' name, whereas Beta contains an extra information of 'state'.\n",
    "\n",
    "> To keep both properties on the same pattern, I'll drop the 'state' information as only the city seems to be enough."
   ]
  },
  {
   "cell_type": "code",
   "execution_count": 9,
   "id": "dd89caea",
   "metadata": {},
   "outputs": [],
   "source": [
    "beta['city'] = beta['city_state'].str.split(' - ').str[0]\n",
    "beta.head()"
   ]
  },
  {
   "cell_type": "code",
   "execution_count": 11,
   "id": "fe960bb2",
   "metadata": {},
   "outputs": [
    {
     "data": {
      "text/plain": [
       "BR    1843\n",
       "Name: country, dtype: int64"
      ]
     },
     "execution_count": 11,
     "metadata": {},
     "output_type": "execute_result"
    }
   ],
   "source": [
    "alpha['country'].value_counts()"
   ]
  },
  {
   "cell_type": "markdown",
   "id": "776d54b7",
   "metadata": {},
   "source": [
    "> At the same time, Alpha has a column with 'country' information, which doesn't seem to be really necessary as all rows contain the same value 'BR'.\n",
    "\n",
    "> 'country' from Alpha will be removed because it's a column that doesn't add up to the data, and is not even mirrored in Beta's properties."
   ]
  },
  {
   "cell_type": "code",
   "execution_count": 12,
   "id": "f3b1a643",
   "metadata": {},
   "outputs": [
    {
     "name": "stdout",
     "output_type": "stream",
     "text": [
      "<class 'pandas.core.frame.DataFrame'>\n",
      "RangeIndex: 1843 entries, 0 to 1842\n",
      "Data columns (total 8 columns):\n",
      " #   Column             Non-Null Count  Dtype         \n",
      "---  ------             --------------  -----         \n",
      " 0   id                 1843 non-null   int64         \n",
      " 1   hotel_name         1843 non-null   object        \n",
      " 2   address            1843 non-null   object        \n",
      " 3   city               1843 non-null   object        \n",
      " 4   registration_date  1843 non-null   datetime64[ns]\n",
      " 5   latest_booking     1843 non-null   datetime64[ns]\n",
      " 6   total_bookings     1843 non-null   int64         \n",
      " 7   registration_id    1843 non-null   object        \n",
      "dtypes: datetime64[ns](2), int64(2), object(4)\n",
      "memory usage: 115.3+ KB\n"
     ]
    }
   ],
   "source": [
    "alpha.drop('country', axis=1, inplace=True)\n",
    "alpha.info()"
   ]
  },
  {
   "cell_type": "code",
   "execution_count": 13,
   "id": "0cb9a22d",
   "metadata": {
    "scrolled": true
   },
   "outputs": [
    {
     "name": "stdout",
     "output_type": "stream",
     "text": [
      "<class 'pandas.core.frame.DataFrame'>\n",
      "RangeIndex: 2601 entries, 0 to 2600\n",
      "Data columns (total 8 columns):\n",
      " #   Column             Non-Null Count  Dtype         \n",
      "---  ------             --------------  -----         \n",
      " 0   id                 2601 non-null   int64         \n",
      " 1   hotel_name         2601 non-null   object        \n",
      " 2   address            2601 non-null   object        \n",
      " 3   registration_date  2601 non-null   datetime64[ns]\n",
      " 4   latest_booking     2601 non-null   datetime64[ns]\n",
      " 5   total_bookings     2601 non-null   int64         \n",
      " 6   registration_id    2601 non-null   object        \n",
      " 7   city               2601 non-null   object        \n",
      "dtypes: datetime64[ns](2), int64(2), object(4)\n",
      "memory usage: 162.7+ KB\n"
     ]
    }
   ],
   "source": [
    "beta.drop('city_state', axis=1, inplace=True)\n",
    "beta.info()"
   ]
  },
  {
   "cell_type": "code",
   "execution_count": 18,
   "id": "50540074",
   "metadata": {},
   "outputs": [
    {
     "data": {
      "text/plain": [
       "True    1843\n",
       "Name: city, dtype: int64"
      ]
     },
     "execution_count": 18,
     "metadata": {},
     "output_type": "execute_result"
    }
   ],
   "source": [
    "alpha['city'].isin(beta['city']).value_counts()"
   ]
  },
  {
   "cell_type": "code",
   "execution_count": 19,
   "id": "f40f5c64",
   "metadata": {},
   "outputs": [
    {
     "data": {
      "text/plain": [
       "True    2601\n",
       "Name: city, dtype: int64"
      ]
     },
     "execution_count": 19,
     "metadata": {},
     "output_type": "execute_result"
    }
   ],
   "source": [
    "beta['city'].isin(alpha['city']).value_counts()"
   ]
  },
  {
   "cell_type": "markdown",
   "id": "c607b359",
   "metadata": {},
   "source": [
    "__Key findings__\n",
    "- Now both datasets have the same columns as well as data types and formatting;\n",
    "- Seems also that Alpha's listed cities are the same as Beta's, and no dataset contain any exclusive value for it.\n",
    "\n",
    "> Next let's make sure 'registration_id' is free of inconsistencies."
   ]
  },
  {
   "cell_type": "code",
   "execution_count": 16,
   "id": "84fd8914",
   "metadata": {},
   "outputs": [
    {
     "data": {
      "text/plain": [
       "count    1843.0\n",
       "mean       12.0\n",
       "std         0.0\n",
       "min        12.0\n",
       "25%        12.0\n",
       "50%        12.0\n",
       "75%        12.0\n",
       "max        12.0\n",
       "Name: registration_id, dtype: float64"
      ]
     },
     "execution_count": 16,
     "metadata": {},
     "output_type": "execute_result"
    }
   ],
   "source": [
    "alpha['registration_id'].apply(lambda x: len(x)).describe()"
   ]
  },
  {
   "cell_type": "code",
   "execution_count": 17,
   "id": "4a68e101",
   "metadata": {
    "scrolled": true
   },
   "outputs": [
    {
     "data": {
      "text/plain": [
       "count    2601.0\n",
       "mean       12.0\n",
       "std         0.0\n",
       "min        12.0\n",
       "25%        12.0\n",
       "50%        12.0\n",
       "75%        12.0\n",
       "max        12.0\n",
       "Name: registration_id, dtype: float64"
      ]
     },
     "execution_count": 17,
     "metadata": {},
     "output_type": "execute_result"
    }
   ],
   "source": [
    "beta['registration_id'].apply(lambda x: len(x)).describe()"
   ]
  },
  {
   "cell_type": "markdown",
   "id": "3bcb4deb",
   "metadata": {},
   "source": [
    "__Key findings__\n",
    "- This check was necessary because this column will be our primary source of overlap comparision,\n",
    "- This is an external numbered document and 12 digits is the norm for this type of ID.\n",
    "\n",
    "> Next let's make sure dates are free of inconsistencies."
   ]
  },
  {
   "cell_type": "code",
   "execution_count": 20,
   "id": "8fe288cb",
   "metadata": {},
   "outputs": [
    {
     "data": {
      "text/html": [
       "<div>\n",
       "<style scoped>\n",
       "    .dataframe tbody tr th:only-of-type {\n",
       "        vertical-align: middle;\n",
       "    }\n",
       "\n",
       "    .dataframe tbody tr th {\n",
       "        vertical-align: top;\n",
       "    }\n",
       "\n",
       "    .dataframe thead th {\n",
       "        text-align: right;\n",
       "    }\n",
       "</style>\n",
       "<table border=\"1\" class=\"dataframe\">\n",
       "  <thead>\n",
       "    <tr style=\"text-align: right;\">\n",
       "      <th></th>\n",
       "      <th>registration_date</th>\n",
       "      <th>latest_booking</th>\n",
       "    </tr>\n",
       "  </thead>\n",
       "  <tbody>\n",
       "    <tr>\n",
       "      <th>count</th>\n",
       "      <td>1843</td>\n",
       "      <td>1843</td>\n",
       "    </tr>\n",
       "    <tr>\n",
       "      <th>mean</th>\n",
       "      <td>2021-09-28 08:52:52.219207936</td>\n",
       "      <td>2022-03-13 04:58:28.193163264</td>\n",
       "    </tr>\n",
       "    <tr>\n",
       "      <th>min</th>\n",
       "      <td>2021-01-01 00:00:00</td>\n",
       "      <td>2021-02-13 00:00:00</td>\n",
       "    </tr>\n",
       "    <tr>\n",
       "      <th>25%</th>\n",
       "      <td>2021-05-11 12:00:00</td>\n",
       "      <td>2021-11-02 00:00:00</td>\n",
       "    </tr>\n",
       "    <tr>\n",
       "      <th>50%</th>\n",
       "      <td>2021-10-07 00:00:00</td>\n",
       "      <td>2022-03-12 00:00:00</td>\n",
       "    </tr>\n",
       "    <tr>\n",
       "      <th>75%</th>\n",
       "      <td>2022-02-08 00:00:00</td>\n",
       "      <td>2022-07-29 00:00:00</td>\n",
       "    </tr>\n",
       "    <tr>\n",
       "      <th>max</th>\n",
       "      <td>2022-06-29 00:00:00</td>\n",
       "      <td>2023-04-26 00:00:00</td>\n",
       "    </tr>\n",
       "  </tbody>\n",
       "</table>\n",
       "</div>"
      ],
      "text/plain": [
       "                   registration_date                 latest_booking\n",
       "count                           1843                           1843\n",
       "mean   2021-09-28 08:52:52.219207936  2022-03-13 04:58:28.193163264\n",
       "min              2021-01-01 00:00:00            2021-02-13 00:00:00\n",
       "25%              2021-05-11 12:00:00            2021-11-02 00:00:00\n",
       "50%              2021-10-07 00:00:00            2022-03-12 00:00:00\n",
       "75%              2022-02-08 00:00:00            2022-07-29 00:00:00\n",
       "max              2022-06-29 00:00:00            2023-04-26 00:00:00"
      ]
     },
     "execution_count": 20,
     "metadata": {},
     "output_type": "execute_result"
    }
   ],
   "source": [
    "alpha[['registration_date', 'latest_booking']].describe(datetime_is_numeric=True)"
   ]
  },
  {
   "cell_type": "code",
   "execution_count": 21,
   "id": "6d13183c",
   "metadata": {},
   "outputs": [
    {
     "data": {
      "text/html": [
       "<div>\n",
       "<style scoped>\n",
       "    .dataframe tbody tr th:only-of-type {\n",
       "        vertical-align: middle;\n",
       "    }\n",
       "\n",
       "    .dataframe tbody tr th {\n",
       "        vertical-align: top;\n",
       "    }\n",
       "\n",
       "    .dataframe thead th {\n",
       "        text-align: right;\n",
       "    }\n",
       "</style>\n",
       "<table border=\"1\" class=\"dataframe\">\n",
       "  <thead>\n",
       "    <tr style=\"text-align: right;\">\n",
       "      <th></th>\n",
       "      <th>registration_date</th>\n",
       "      <th>latest_booking</th>\n",
       "    </tr>\n",
       "  </thead>\n",
       "  <tbody>\n",
       "    <tr>\n",
       "      <th>count</th>\n",
       "      <td>2601</td>\n",
       "      <td>2601</td>\n",
       "    </tr>\n",
       "    <tr>\n",
       "      <th>mean</th>\n",
       "      <td>2021-06-22 19:43:06.851211008</td>\n",
       "      <td>2022-02-27 07:11:16.816609024</td>\n",
       "    </tr>\n",
       "    <tr>\n",
       "      <th>min</th>\n",
       "      <td>2019-05-15 00:00:00</td>\n",
       "      <td>2020-11-09 00:00:00</td>\n",
       "    </tr>\n",
       "    <tr>\n",
       "      <th>25%</th>\n",
       "      <td>2021-02-11 00:00:00</td>\n",
       "      <td>2021-10-16 00:00:00</td>\n",
       "    </tr>\n",
       "    <tr>\n",
       "      <th>50%</th>\n",
       "      <td>2021-07-10 00:00:00</td>\n",
       "      <td>2022-02-27 00:00:00</td>\n",
       "    </tr>\n",
       "    <tr>\n",
       "      <th>75%</th>\n",
       "      <td>2021-12-28 00:00:00</td>\n",
       "      <td>2022-07-14 00:00:00</td>\n",
       "    </tr>\n",
       "    <tr>\n",
       "      <th>max</th>\n",
       "      <td>2022-07-08 00:00:00</td>\n",
       "      <td>2023-04-24 00:00:00</td>\n",
       "    </tr>\n",
       "  </tbody>\n",
       "</table>\n",
       "</div>"
      ],
      "text/plain": [
       "                   registration_date                 latest_booking\n",
       "count                           2601                           2601\n",
       "mean   2021-06-22 19:43:06.851211008  2022-02-27 07:11:16.816609024\n",
       "min              2019-05-15 00:00:00            2020-11-09 00:00:00\n",
       "25%              2021-02-11 00:00:00            2021-10-16 00:00:00\n",
       "50%              2021-07-10 00:00:00            2022-02-27 00:00:00\n",
       "75%              2021-12-28 00:00:00            2022-07-14 00:00:00\n",
       "max              2022-07-08 00:00:00            2023-04-24 00:00:00"
      ]
     },
     "execution_count": 21,
     "metadata": {},
     "output_type": "execute_result"
    }
   ],
   "source": [
    "beta[['registration_date', 'latest_booking']].describe(datetime_is_numeric=True)"
   ]
  },
  {
   "cell_type": "markdown",
   "id": "ba3e1071",
   "metadata": {},
   "source": [
    "__Key findings__\n",
    "- No super abnormal dates were found, but analuzing the max's for both columns raised some questions;\n",
    "- The 'registration_date' should come before the 'latest_booking' by pure logic...\n",
    "\n",
    "> But does this stand with the reality? Next we will validate it."
   ]
  },
  {
   "cell_type": "code",
   "execution_count": 22,
   "id": "5098ad9c",
   "metadata": {},
   "outputs": [
    {
     "data": {
      "text/html": [
       "<div>\n",
       "<style scoped>\n",
       "    .dataframe tbody tr th:only-of-type {\n",
       "        vertical-align: middle;\n",
       "    }\n",
       "\n",
       "    .dataframe tbody tr th {\n",
       "        vertical-align: top;\n",
       "    }\n",
       "\n",
       "    .dataframe thead th {\n",
       "        text-align: right;\n",
       "    }\n",
       "</style>\n",
       "<table border=\"1\" class=\"dataframe\">\n",
       "  <thead>\n",
       "    <tr style=\"text-align: right;\">\n",
       "      <th></th>\n",
       "      <th>id</th>\n",
       "      <th>hotel_name</th>\n",
       "      <th>address</th>\n",
       "      <th>city</th>\n",
       "      <th>registration_date</th>\n",
       "      <th>latest_booking</th>\n",
       "      <th>total_bookings</th>\n",
       "      <th>registration_id</th>\n",
       "    </tr>\n",
       "  </thead>\n",
       "  <tbody>\n",
       "  </tbody>\n",
       "</table>\n",
       "</div>"
      ],
      "text/plain": [
       "Empty DataFrame\n",
       "Columns: [id, hotel_name, address, city, registration_date, latest_booking, total_bookings, registration_id]\n",
       "Index: []"
      ]
     },
     "execution_count": 22,
     "metadata": {},
     "output_type": "execute_result"
    }
   ],
   "source": [
    "alpha[alpha['registration_date'] > alpha['latest_booking']]"
   ]
  },
  {
   "cell_type": "code",
   "execution_count": 23,
   "id": "2ad839ee",
   "metadata": {
    "scrolled": true
   },
   "outputs": [
    {
     "data": {
      "text/html": [
       "<div>\n",
       "<style scoped>\n",
       "    .dataframe tbody tr th:only-of-type {\n",
       "        vertical-align: middle;\n",
       "    }\n",
       "\n",
       "    .dataframe tbody tr th {\n",
       "        vertical-align: top;\n",
       "    }\n",
       "\n",
       "    .dataframe thead th {\n",
       "        text-align: right;\n",
       "    }\n",
       "</style>\n",
       "<table border=\"1\" class=\"dataframe\">\n",
       "  <thead>\n",
       "    <tr style=\"text-align: right;\">\n",
       "      <th></th>\n",
       "      <th>id</th>\n",
       "      <th>hotel_name</th>\n",
       "      <th>address</th>\n",
       "      <th>registration_date</th>\n",
       "      <th>latest_booking</th>\n",
       "      <th>total_bookings</th>\n",
       "      <th>registration_id</th>\n",
       "      <th>city</th>\n",
       "    </tr>\n",
       "  </thead>\n",
       "  <tbody>\n",
       "    <tr>\n",
       "      <th>459</th>\n",
       "      <td>460</td>\n",
       "      <td>Bailey, Treutel and Trantow</td>\n",
       "      <td>5 Center Pass</td>\n",
       "      <td>2020-12-16</td>\n",
       "      <td>2020-12-12</td>\n",
       "      <td>577</td>\n",
       "      <td>178827278319</td>\n",
       "      <td>Brasilia</td>\n",
       "    </tr>\n",
       "    <tr>\n",
       "      <th>1075</th>\n",
       "      <td>1076</td>\n",
       "      <td>DuBuque-Dicki</td>\n",
       "      <td>29856 Corben Crossing</td>\n",
       "      <td>2021-05-15</td>\n",
       "      <td>2021-05-03</td>\n",
       "      <td>217</td>\n",
       "      <td>515585228769</td>\n",
       "      <td>Santos</td>\n",
       "    </tr>\n",
       "    <tr>\n",
       "      <th>1167</th>\n",
       "      <td>1168</td>\n",
       "      <td>Labadie, Beer and Rogahn</td>\n",
       "      <td>6011 Nobel Hill</td>\n",
       "      <td>2021-06-08</td>\n",
       "      <td>2021-03-26</td>\n",
       "      <td>287</td>\n",
       "      <td>597555334790</td>\n",
       "      <td>Brasilia</td>\n",
       "    </tr>\n",
       "    <tr>\n",
       "      <th>1169</th>\n",
       "      <td>1170</td>\n",
       "      <td>Kuphal-Stiedemann</td>\n",
       "      <td>54 Eastwood Trail</td>\n",
       "      <td>2021-06-08</td>\n",
       "      <td>2021-05-01</td>\n",
       "      <td>748</td>\n",
       "      <td>286067829432</td>\n",
       "      <td>São Paulo</td>\n",
       "    </tr>\n",
       "    <tr>\n",
       "      <th>1178</th>\n",
       "      <td>1179</td>\n",
       "      <td>Hintz, Bergnaum and Crist</td>\n",
       "      <td>13 Mockingbird Pass</td>\n",
       "      <td>2021-06-10</td>\n",
       "      <td>2021-04-14</td>\n",
       "      <td>250</td>\n",
       "      <td>597075591416</td>\n",
       "      <td>Santos</td>\n",
       "    </tr>\n",
       "    <tr>\n",
       "      <th>1306</th>\n",
       "      <td>1307</td>\n",
       "      <td>Balistreri-Muller</td>\n",
       "      <td>16 Esch Point</td>\n",
       "      <td>2021-07-11</td>\n",
       "      <td>2021-05-19</td>\n",
       "      <td>271</td>\n",
       "      <td>230965219206</td>\n",
       "      <td>Fortaleza</td>\n",
       "    </tr>\n",
       "    <tr>\n",
       "      <th>1653</th>\n",
       "      <td>1654</td>\n",
       "      <td>Ratke-Mills</td>\n",
       "      <td>2 Monica Hill</td>\n",
       "      <td>2021-10-09</td>\n",
       "      <td>2021-09-15</td>\n",
       "      <td>305</td>\n",
       "      <td>509732099032</td>\n",
       "      <td>Brasilia</td>\n",
       "    </tr>\n",
       "    <tr>\n",
       "      <th>1700</th>\n",
       "      <td>1701</td>\n",
       "      <td>Morar-Hahn</td>\n",
       "      <td>6 Bluejay Court</td>\n",
       "      <td>2021-10-20</td>\n",
       "      <td>2021-10-13</td>\n",
       "      <td>328</td>\n",
       "      <td>718278430181</td>\n",
       "      <td>Rio de Janeiro</td>\n",
       "    </tr>\n",
       "    <tr>\n",
       "      <th>2010</th>\n",
       "      <td>2011</td>\n",
       "      <td>Bechtelar LLC</td>\n",
       "      <td>5711 Sundown Way</td>\n",
       "      <td>2022-01-14</td>\n",
       "      <td>2021-10-07</td>\n",
       "      <td>122</td>\n",
       "      <td>543624630210</td>\n",
       "      <td>São Paulo</td>\n",
       "    </tr>\n",
       "    <tr>\n",
       "      <th>2301</th>\n",
       "      <td>2302</td>\n",
       "      <td>Becker-Koepp</td>\n",
       "      <td>35 Sullivan Point</td>\n",
       "      <td>2022-03-31</td>\n",
       "      <td>2022-02-26</td>\n",
       "      <td>152</td>\n",
       "      <td>664251239485</td>\n",
       "      <td>São Paulo</td>\n",
       "    </tr>\n",
       "    <tr>\n",
       "      <th>2431</th>\n",
       "      <td>2432</td>\n",
       "      <td>Runolfsson, Terry and Kuphal</td>\n",
       "      <td>470 Vernon Circle</td>\n",
       "      <td>2022-05-11</td>\n",
       "      <td>2022-02-01</td>\n",
       "      <td>662</td>\n",
       "      <td>347192083894</td>\n",
       "      <td>Fortaleza</td>\n",
       "    </tr>\n",
       "  </tbody>\n",
       "</table>\n",
       "</div>"
      ],
      "text/plain": [
       "        id                    hotel_name                address  \\\n",
       "459    460   Bailey, Treutel and Trantow          5 Center Pass   \n",
       "1075  1076                 DuBuque-Dicki  29856 Corben Crossing   \n",
       "1167  1168      Labadie, Beer and Rogahn        6011 Nobel Hill   \n",
       "1169  1170             Kuphal-Stiedemann      54 Eastwood Trail   \n",
       "1178  1179     Hintz, Bergnaum and Crist    13 Mockingbird Pass   \n",
       "1306  1307             Balistreri-Muller          16 Esch Point   \n",
       "1653  1654                   Ratke-Mills          2 Monica Hill   \n",
       "1700  1701                    Morar-Hahn        6 Bluejay Court   \n",
       "2010  2011                 Bechtelar LLC       5711 Sundown Way   \n",
       "2301  2302                  Becker-Koepp      35 Sullivan Point   \n",
       "2431  2432  Runolfsson, Terry and Kuphal      470 Vernon Circle   \n",
       "\n",
       "     registration_date latest_booking  total_bookings registration_id  \\\n",
       "459         2020-12-16     2020-12-12             577    178827278319   \n",
       "1075        2021-05-15     2021-05-03             217    515585228769   \n",
       "1167        2021-06-08     2021-03-26             287    597555334790   \n",
       "1169        2021-06-08     2021-05-01             748    286067829432   \n",
       "1178        2021-06-10     2021-04-14             250    597075591416   \n",
       "1306        2021-07-11     2021-05-19             271    230965219206   \n",
       "1653        2021-10-09     2021-09-15             305    509732099032   \n",
       "1700        2021-10-20     2021-10-13             328    718278430181   \n",
       "2010        2022-01-14     2021-10-07             122    543624630210   \n",
       "2301        2022-03-31     2022-02-26             152    664251239485   \n",
       "2431        2022-05-11     2022-02-01             662    347192083894   \n",
       "\n",
       "                city  \n",
       "459         Brasilia  \n",
       "1075          Santos  \n",
       "1167        Brasilia  \n",
       "1169       São Paulo  \n",
       "1178          Santos  \n",
       "1306       Fortaleza  \n",
       "1653        Brasilia  \n",
       "1700  Rio de Janeiro  \n",
       "2010       São Paulo  \n",
       "2301       São Paulo  \n",
       "2431       Fortaleza  "
      ]
     },
     "execution_count": 23,
     "metadata": {},
     "output_type": "execute_result"
    }
   ],
   "source": [
    "beta[beta['registration_date'] > beta['latest_booking']]"
   ]
  },
  {
   "cell_type": "markdown",
   "id": "86e630e3",
   "metadata": {},
   "source": [
    "> Turns out Beta has some hotels which were registered after the latest booking, so this is a problem. Next we will handle those few cases."
   ]
  },
  {
   "cell_type": "code",
   "execution_count": 24,
   "id": "f0183f30",
   "metadata": {},
   "outputs": [
    {
     "data": {
      "text/plain": [
       "Timedelta('249 days 11:28:09.965397924')"
      ]
     },
     "execution_count": 24,
     "metadata": {},
     "output_type": "execute_result"
    }
   ],
   "source": [
    "(beta['latest_booking'] - beta['registration_date']).mean()"
   ]
  },
  {
   "cell_type": "code",
   "execution_count": 25,
   "id": "123b5748",
   "metadata": {},
   "outputs": [
    {
     "data": {
      "text/plain": [
       "count                           2601\n",
       "mean     249 days 11:28:09.965397924\n",
       "std      178 days 09:20:58.698826620\n",
       "min               -99 days +00:00:00\n",
       "25%                119 days 00:00:00\n",
       "50%                209 days 00:00:00\n",
       "75%                298 days 00:00:00\n",
       "max                932 days 00:00:00\n",
       "dtype: object"
      ]
     },
     "execution_count": 25,
     "metadata": {},
     "output_type": "execute_result"
    }
   ],
   "source": [
    "(beta['latest_booking'] - beta['registration_date']).describe()"
   ]
  },
  {
   "cell_type": "markdown",
   "id": "c80763eb",
   "metadata": {},
   "source": [
    "__Key findings__\n",
    "- The solution chosen was to replace the 'registration_date' of those affected by the overall series mean.\n",
    "- This was decided instead of simply dropping or keeping it like that because:\n",
    "\n",
    "1) I don't want to drop these Hotels as number 1 insight we are taking from this analysis is the Overlap, and the dates come as a secondary information which is helpful, yet not essential.\n",
    "\n",
    "2) Still, I will use the dates later on for the analysis, so insted of having the potential wrong data to mess up the whole series, I'll replace it with the series mean, this way it might not be correct, but at least won't affect overall statistics (or at least affect less)."
   ]
  },
  {
   "cell_type": "code",
   "execution_count": 26,
   "id": "c18c6537",
   "metadata": {},
   "outputs": [],
   "source": [
    "beta.loc[\n",
    "    beta['registration_date'] > beta['latest_booking'],\n",
    "    'registration_date'\n",
    "] = beta.loc[\n",
    "        beta['registration_date'] > beta['latest_booking'],\n",
    "        'registration_date'\n",
    "] - pd.to_timedelta(249, 'day')"
   ]
  },
  {
   "cell_type": "code",
   "execution_count": 27,
   "id": "b827b424",
   "metadata": {},
   "outputs": [
    {
     "data": {
      "text/html": [
       "<div>\n",
       "<style scoped>\n",
       "    .dataframe tbody tr th:only-of-type {\n",
       "        vertical-align: middle;\n",
       "    }\n",
       "\n",
       "    .dataframe tbody tr th {\n",
       "        vertical-align: top;\n",
       "    }\n",
       "\n",
       "    .dataframe thead th {\n",
       "        text-align: right;\n",
       "    }\n",
       "</style>\n",
       "<table border=\"1\" class=\"dataframe\">\n",
       "  <thead>\n",
       "    <tr style=\"text-align: right;\">\n",
       "      <th></th>\n",
       "      <th>id</th>\n",
       "      <th>hotel_name</th>\n",
       "      <th>address</th>\n",
       "      <th>registration_date</th>\n",
       "      <th>latest_booking</th>\n",
       "      <th>total_bookings</th>\n",
       "      <th>registration_id</th>\n",
       "      <th>city</th>\n",
       "    </tr>\n",
       "  </thead>\n",
       "  <tbody>\n",
       "  </tbody>\n",
       "</table>\n",
       "</div>"
      ],
      "text/plain": [
       "Empty DataFrame\n",
       "Columns: [id, hotel_name, address, registration_date, latest_booking, total_bookings, registration_id, city]\n",
       "Index: []"
      ]
     },
     "execution_count": 27,
     "metadata": {},
     "output_type": "execute_result"
    }
   ],
   "source": [
    "beta[beta['registration_date'] > beta['latest_booking']]"
   ]
  },
  {
   "cell_type": "code",
   "execution_count": 28,
   "id": "87574bf3",
   "metadata": {
    "scrolled": false
   },
   "outputs": [
    {
     "data": {
      "text/html": [
       "<div>\n",
       "<style scoped>\n",
       "    .dataframe tbody tr th:only-of-type {\n",
       "        vertical-align: middle;\n",
       "    }\n",
       "\n",
       "    .dataframe tbody tr th {\n",
       "        vertical-align: top;\n",
       "    }\n",
       "\n",
       "    .dataframe thead th {\n",
       "        text-align: right;\n",
       "    }\n",
       "</style>\n",
       "<table border=\"1\" class=\"dataframe\">\n",
       "  <thead>\n",
       "    <tr style=\"text-align: right;\">\n",
       "      <th></th>\n",
       "      <th>id</th>\n",
       "      <th>hotel_name</th>\n",
       "      <th>address</th>\n",
       "      <th>registration_date</th>\n",
       "      <th>latest_booking</th>\n",
       "      <th>total_bookings</th>\n",
       "      <th>registration_id</th>\n",
       "      <th>city</th>\n",
       "    </tr>\n",
       "  </thead>\n",
       "  <tbody>\n",
       "    <tr>\n",
       "      <th>459</th>\n",
       "      <td>460</td>\n",
       "      <td>Bailey, Treutel and Trantow</td>\n",
       "      <td>5 Center Pass</td>\n",
       "      <td>2020-04-11</td>\n",
       "      <td>2020-12-12</td>\n",
       "      <td>577</td>\n",
       "      <td>178827278319</td>\n",
       "      <td>Brasilia</td>\n",
       "    </tr>\n",
       "  </tbody>\n",
       "</table>\n",
       "</div>"
      ],
      "text/plain": [
       "      id                   hotel_name        address registration_date  \\\n",
       "459  460  Bailey, Treutel and Trantow  5 Center Pass        2020-04-11   \n",
       "\n",
       "    latest_booking  total_bookings registration_id      city  \n",
       "459     2020-12-12             577    178827278319  Brasilia  "
      ]
     },
     "execution_count": 28,
     "metadata": {},
     "output_type": "execute_result"
    }
   ],
   "source": [
    "beta[beta['id'] == 460]"
   ]
  },
  {
   "cell_type": "markdown",
   "id": "4661db71",
   "metadata": {},
   "source": [
    "---\n",
    "\n",
    "## 3) Overlap Analysis\n",
    "\n",
    "- "
   ]
  },
  {
   "cell_type": "code",
   "execution_count": null,
   "id": "4debb5b6",
   "metadata": {},
   "outputs": [],
   "source": []
  }
 ],
 "metadata": {
  "kernelspec": {
   "display_name": "Python 3 (ipykernel)",
   "language": "python",
   "name": "python3"
  },
  "language_info": {
   "codemirror_mode": {
    "name": "ipython",
    "version": 3
   },
   "file_extension": ".py",
   "mimetype": "text/x-python",
   "name": "python",
   "nbconvert_exporter": "python",
   "pygments_lexer": "ipython3",
   "version": "3.8.8"
  }
 },
 "nbformat": 4,
 "nbformat_minor": 5
}
