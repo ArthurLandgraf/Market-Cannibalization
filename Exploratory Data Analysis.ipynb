{
 "cells": [
  {
   "cell_type": "markdown",
   "id": "59705ee4",
   "metadata": {},
   "source": [
    "# Market Overlap\n",
    "\n",
    "### SCENARIO\n",
    "\n",
    "The scenario is: A ficticious company named 'Alpha' is interested in acquiring another ficticious company named 'Beta'. They both belong to the hotelling industry, more specifically they are marketplaces for hotels to announce their accomodation details as well as handle all the booking process with travellers.\n",
    "\n",
    "### UNDERSTANDING THE COMPANIES\n",
    "\n",
    "__Alpha__ offer hotels in destinations worldwide. They've entered Brazil's market recently and have been investing in Facebook and Google Ads to get more hotels to publish in their marketplace. However, the CAC (customer acquisition cost) to get more hotels on board is too high and after several weeks trying to improve performance Alpha's board have decided to look for other options of increasing the number of hotels in their marketplace.\n",
    "\n",
    "__Beta__ on the other hand, operates only in Brazil and although has a smaller scale than Alpha overall, it has a considerable amount of hotels already on board and operating.\n",
    "\n",
    "### WHY THE MARKET OVERLAP ANALYSIS\n",
    "\n",
    "Seeking a way to reduce the CAC, Alpha has made a move to buy Beta with all it's hotels and marketplace service. Even though Beta has shown interest on the deal, Alpha still want's to look at some real data in order to reach the conclusion if the CAC would really be lower than their current marketing investments.\n",
    "\n",
    "As of now, both companies does not know if their hotels are unique to them or actually common between both, as its a common practice among hotels to publish their accomodations in different marketplaces."
   ]
  },
  {
   "cell_type": "code",
   "execution_count": 57,
   "id": "e5ec2e91",
   "metadata": {},
   "outputs": [],
   "source": [
    "import pandas as pd\n",
    "import matplotlib.pyplot as plt\n",
    "%matplotlib inline"
   ]
  },
  {
   "cell_type": "code",
   "execution_count": 58,
   "id": "f531abc3",
   "metadata": {},
   "outputs": [],
   "source": [
    "dtype = {\n",
    "    'registration_id': str\n",
    "}\n",
    "\n",
    "parse_dates = [\n",
    "    'registration_date',\n",
    "    'latest_booking'\n",
    "]\n",
    "\n",
    "alpha = pd.read_csv(\n",
    "    'alpha_hotels.csv',\n",
    "    dtype=dtype,\n",
    "    parse_dates=parse_dates\n",
    ")"
   ]
  },
  {
   "cell_type": "code",
   "execution_count": 60,
   "id": "75a97dc0",
   "metadata": {},
   "outputs": [],
   "source": [
    "dtype = {\n",
    "    'Registration Id': str\n",
    "}\n",
    "\n",
    "parse_dates = [\n",
    "    'Registration Date',\n",
    "    'Last Booking'\n",
    "]\n",
    "\n",
    "beta = pd.read_csv(\n",
    "    'Beta Hotels.csv',\n",
    "    dtype=dtype,\n",
    "    parse_dates=parse_dates\n",
    ")"
   ]
  },
  {
   "cell_type": "code",
   "execution_count": 61,
   "id": "561a7a94",
   "metadata": {},
   "outputs": [
    {
     "name": "stdout",
     "output_type": "stream",
     "text": [
      "<class 'pandas.core.frame.DataFrame'>\n",
      "RangeIndex: 1843 entries, 0 to 1842\n",
      "Data columns (total 9 columns):\n",
      " #   Column             Non-Null Count  Dtype         \n",
      "---  ------             --------------  -----         \n",
      " 0   id                 1843 non-null   int64         \n",
      " 1   hotel_name         1843 non-null   object        \n",
      " 2   address            1843 non-null   object        \n",
      " 3   city               1843 non-null   object        \n",
      " 4   country            1843 non-null   object        \n",
      " 5   registration_date  1843 non-null   datetime64[ns]\n",
      " 6   latest_booking     1843 non-null   datetime64[ns]\n",
      " 7   total_bookings     1843 non-null   int64         \n",
      " 8   registration_id    1843 non-null   object        \n",
      "dtypes: datetime64[ns](2), int64(2), object(5)\n",
      "memory usage: 129.7+ KB\n"
     ]
    }
   ],
   "source": [
    "alpha.info()"
   ]
  },
  {
   "cell_type": "code",
   "execution_count": 62,
   "id": "67013af5",
   "metadata": {
    "scrolled": true
   },
   "outputs": [
    {
     "name": "stdout",
     "output_type": "stream",
     "text": [
      "<class 'pandas.core.frame.DataFrame'>\n",
      "RangeIndex: 2601 entries, 0 to 2600\n",
      "Data columns (total 8 columns):\n",
      " #   Column             Non-Null Count  Dtype         \n",
      "---  ------             --------------  -----         \n",
      " 0   Id                 2601 non-null   int64         \n",
      " 1   Hotel Name         2601 non-null   object        \n",
      " 2   Address            2601 non-null   object        \n",
      " 3   City State         2601 non-null   object        \n",
      " 4   Registration Date  2601 non-null   datetime64[ns]\n",
      " 5   Last Booking       2601 non-null   datetime64[ns]\n",
      " 6   Total Bookings     2601 non-null   int64         \n",
      " 7   Registration Id    2601 non-null   object        \n",
      "dtypes: datetime64[ns](2), int64(2), object(4)\n",
      "memory usage: 162.7+ KB\n"
     ]
    }
   ],
   "source": [
    "beta.info()"
   ]
  },
  {
   "cell_type": "code",
   "execution_count": null,
   "id": "964c0639",
   "metadata": {},
   "outputs": [],
   "source": []
  }
 ],
 "metadata": {
  "kernelspec": {
   "display_name": "Python 3 (ipykernel)",
   "language": "python",
   "name": "python3"
  },
  "language_info": {
   "codemirror_mode": {
    "name": "ipython",
    "version": 3
   },
   "file_extension": ".py",
   "mimetype": "text/x-python",
   "name": "python",
   "nbconvert_exporter": "python",
   "pygments_lexer": "ipython3",
   "version": "3.8.8"
  }
 },
 "nbformat": 4,
 "nbformat_minor": 5
}
