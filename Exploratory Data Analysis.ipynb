{
 "cells": [
  {
   "cell_type": "markdown",
   "id": "59705ee4",
   "metadata": {},
   "source": [
    "# Market Overlap\n",
    "\n",
    "### SCENARIO\n",
    "\n",
    "The scenario is: A ficticious company named 'Alpha' is interested in acquiring another ficticious company named 'Beta'. They both belong to the hotelling industry, more specifically they are marketplaces for hotels to announce their accomodation details as well as handle all the booking process with travellers.\n",
    "\n",
    "### UNDERSTANDING THE COMPANIES\n",
    "\n",
    "__Alpha__ offer hotels in destinations worldwide. They've entered Brazil's market recently and have been investing in Facebook and Google Ads to get more hotels to publish in their marketplace. However, the CAC (customer acquisition cost) to get more hotels on board is too high and after several weeks trying to improve performance Alpha's board have decided to look for other options of increasing the number of hotels in their marketplace.\n",
    "\n",
    "__Beta__ on the other hand, operates only in Brazil and although has a smaller scale than Alpha overall, it has a considerable amount of hotels already on board and operating.\n",
    "\n",
    "### WHY THE MARKET OVERLAP ANALYSIS\n",
    "\n",
    "Seeking a way to reduce the CAC, Alpha has made a move to buy Beta with all it's hotels and marketplace service. Even though Beta has shown interest on the deal, Alpha still want's to look at some real data in order to reach the conclusion if the CAC would really be lower than their current marketing investments.\n",
    "\n",
    "As of now, both companies does not know if their hotels are unique to them or actually common between both, as its a common practice among hotels to publish their accomodations in different marketplaces.\n",
    "\n",
    "### STEPS FOR THE ANALYSIS\n",
    "\n",
    "1) Setting up\n",
    "\n",
    "2) Data cleaning\n",
    "\n",
    "3) Overlap Analysis\n",
    "\n",
    "4) Conclusions\n"
   ]
  },
  {
   "cell_type": "markdown",
   "id": "e02b0010",
   "metadata": {},
   "source": [
    "---\n",
    "\n",
    "## 1) Setting Up\n",
    "\n",
    "- Reading files;\n",
    "- Standardizing columns."
   ]
  },
  {
   "cell_type": "code",
   "execution_count": 1,
   "id": "e5ec2e91",
   "metadata": {},
   "outputs": [],
   "source": [
    "import pandas as pd\n",
    "import matplotlib.pyplot as plt\n",
    "%matplotlib inline"
   ]
  },
  {
   "cell_type": "code",
   "execution_count": 2,
   "id": "f531abc3",
   "metadata": {},
   "outputs": [],
   "source": [
    "dtype = {\n",
    "    'registration_id': str\n",
    "}\n",
    "\n",
    "parse_dates = [\n",
    "    'registration_date',\n",
    "    'latest_booking'\n",
    "]\n",
    "\n",
    "alpha = pd.read_csv(\n",
    "    'alpha_hotels.csv',\n",
    "    dtype=dtype,\n",
    "    parse_dates=parse_dates\n",
    ")"
   ]
  },
  {
   "cell_type": "code",
   "execution_count": 3,
   "id": "561a7a94",
   "metadata": {},
   "outputs": [
    {
     "name": "stdout",
     "output_type": "stream",
     "text": [
      "<class 'pandas.core.frame.DataFrame'>\n",
      "RangeIndex: 1843 entries, 0 to 1842\n",
      "Data columns (total 9 columns):\n",
      " #   Column             Non-Null Count  Dtype         \n",
      "---  ------             --------------  -----         \n",
      " 0   id                 1843 non-null   int64         \n",
      " 1   hotel_name         1843 non-null   object        \n",
      " 2   address            1843 non-null   object        \n",
      " 3   city               1843 non-null   object        \n",
      " 4   country            1843 non-null   object        \n",
      " 5   registration_date  1843 non-null   datetime64[ns]\n",
      " 6   latest_booking     1843 non-null   datetime64[ns]\n",
      " 7   total_bookings     1843 non-null   int64         \n",
      " 8   registration_id    1843 non-null   object        \n",
      "dtypes: datetime64[ns](2), int64(2), object(5)\n",
      "memory usage: 129.7+ KB\n"
     ]
    }
   ],
   "source": [
    "alpha.info()"
   ]
  },
  {
   "cell_type": "code",
   "execution_count": null,
   "id": "caa0e4a5",
   "metadata": {},
   "outputs": [],
   "source": [
    "alpha.head()"
   ]
  },
  {
   "cell_type": "code",
   "execution_count": null,
   "id": "75a97dc0",
   "metadata": {},
   "outputs": [],
   "source": [
    "dtype = {\n",
    "    'Registration Id': str\n",
    "}\n",
    "\n",
    "parse_dates = [\n",
    "    'Registration Date',\n",
    "    'Last Booking'\n",
    "]\n",
    "\n",
    "beta = pd.read_csv(\n",
    "    'Beta Hotels.csv',\n",
    "    dtype=dtype,\n",
    "    parse_dates=parse_dates\n",
    ")"
   ]
  },
  {
   "cell_type": "code",
   "execution_count": null,
   "id": "67013af5",
   "metadata": {
    "scrolled": false
   },
   "outputs": [],
   "source": [
    "beta.info()"
   ]
  },
  {
   "cell_type": "code",
   "execution_count": null,
   "id": "4df0b254",
   "metadata": {},
   "outputs": [],
   "source": [
    "beta.head()"
   ]
  },
  {
   "cell_type": "markdown",
   "id": "4735a473",
   "metadata": {},
   "source": [
    "__Key findings__\n",
    "- Seems like the files don't contain 'null' values\n",
    "- Alpha has the column names formatted as snake_case (best to be kept this way)\n",
    "- Beta has column names containing spaces and with an unecessary formatting\n",
    "\n",
    "> Next let's rename Beta columns to align with Alpha's."
   ]
  },
  {
   "cell_type": "code",
   "execution_count": null,
   "id": "4abcb6cd",
   "metadata": {
    "scrolled": false
   },
   "outputs": [],
   "source": [
    "new_cols = {\n",
    "    'Id': 'id',\n",
    "    'Hotel Name': 'hotel_name',\n",
    "    'Address': 'address',\n",
    "    'City State': 'city_state',\n",
    "    'Registration Date': 'registration_date',\n",
    "    'Last Booking': 'latest_booking',\n",
    "    'Total Bookings': 'total_bookings',\n",
    "    'Registration Id': 'registration_id'\n",
    "}\n",
    "\n",
    "beta.rename(new_cols, axis=1, inplace=True)\n",
    "beta.head()"
   ]
  },
  {
   "cell_type": "markdown",
   "id": "19698be5",
   "metadata": {},
   "source": [
    "---\n",
    "\n",
    "## 2) Data Cleaning\n",
    "\n",
    "- Checking for inconsistencies;\n",
    "- Ensuring both datasets follow the same pattern for same property."
   ]
  },
  {
   "cell_type": "markdown",
   "id": "25a1e56f",
   "metadata": {},
   "source": [
    "> During the column renaming I noticed the 'location' properties difer in both datasets. Alpha has only 'city' name, whereas Beta contains an extra information of 'state'.\n",
    "\n",
    "> To keep both properties on the same pattern, I'll drop the 'state' information as only the city seems to be enough."
   ]
  },
  {
   "cell_type": "code",
   "execution_count": null,
   "id": "dd89caea",
   "metadata": {},
   "outputs": [],
   "source": [
    "beta['city'] = beta['city_state'].str.split(' - ').str[0]\n",
    "beta.head()"
   ]
  },
  {
   "cell_type": "code",
   "execution_count": null,
   "id": "fe960bb2",
   "metadata": {},
   "outputs": [],
   "source": [
    "alpha['country'].value_counts()"
   ]
  },
  {
   "cell_type": "markdown",
   "id": "776d54b7",
   "metadata": {},
   "source": [
    "> At the same time, Alpha has a column with 'country' information, which doesn't seem to be really necessary as all rows contain the same value 'BR'.\n",
    "\n",
    "> 'country' from Alpha will be removed because it's a column that doesn't add up to the data, and is not even mirrored in Beta's properties."
   ]
  },
  {
   "cell_type": "code",
   "execution_count": null,
   "id": "f3b1a643",
   "metadata": {},
   "outputs": [],
   "source": [
    "alpha.drop('country', axis=1, inplace=True)\n",
    "alpha.info()"
   ]
  },
  {
   "cell_type": "code",
   "execution_count": null,
   "id": "0cb9a22d",
   "metadata": {
    "scrolled": true
   },
   "outputs": [],
   "source": [
    "beta.drop('city_state', axis=1, inplace=True)\n",
    "beta.info()"
   ]
  },
  {
   "cell_type": "code",
   "execution_count": null,
   "id": "50540074",
   "metadata": {},
   "outputs": [],
   "source": [
    "alpha['city'].isin(beta['city']).value_counts()"
   ]
  },
  {
   "cell_type": "code",
   "execution_count": null,
   "id": "f40f5c64",
   "metadata": {},
   "outputs": [],
   "source": [
    "beta['city'].isin(alpha['city']).value_counts()"
   ]
  },
  {
   "cell_type": "markdown",
   "id": "c607b359",
   "metadata": {},
   "source": [
    "__Key findings__\n",
    "- Now both datasets have the same columns as well as data types and formatting;\n",
    "- Seems also that Alpha's listed cities are the same as Beta's, and no dataset contain any exclusive value for it.\n",
    "\n",
    "> Next let's make sure 'registration_id' is free of inconsistencies."
   ]
  },
  {
   "cell_type": "code",
   "execution_count": null,
   "id": "84fd8914",
   "metadata": {},
   "outputs": [],
   "source": [
    "alpha['registration_id'].apply(lambda x: len(x)).describe()"
   ]
  },
  {
   "cell_type": "code",
   "execution_count": null,
   "id": "4a68e101",
   "metadata": {
    "scrolled": true
   },
   "outputs": [],
   "source": [
    "beta['registration_id'].apply(lambda x: len(x)).describe()"
   ]
  },
  {
   "cell_type": "markdown",
   "id": "3bcb4deb",
   "metadata": {},
   "source": [
    "__Key findings__\n",
    "- This check was necessary because this column will be our primary source of overlap comparision,\n",
    "- This is an external numbered document and 12 digits is the norm for this type of ID.\n",
    "\n",
    "> Next let's make sure dates are free of inconsistencies."
   ]
  },
  {
   "cell_type": "code",
   "execution_count": null,
   "id": "8fe288cb",
   "metadata": {},
   "outputs": [],
   "source": [
    "alpha[['registration_date', 'latest_booking']].describe(datetime_is_numeric=True)"
   ]
  },
  {
   "cell_type": "code",
   "execution_count": null,
   "id": "6d13183c",
   "metadata": {},
   "outputs": [],
   "source": [
    "beta[['registration_date', 'latest_booking']].describe(datetime_is_numeric=True)"
   ]
  },
  {
   "cell_type": "markdown",
   "id": "ba3e1071",
   "metadata": {},
   "source": [
    "__Key findings__\n",
    "- No super abnormal dates were found, but analuzing the max's for both columns raised some questions;\n",
    "- The 'registration_date' should come before the 'latest_booking' by pure logic...\n",
    "\n",
    "> But does this stand with the reality? Next we will validate it."
   ]
  },
  {
   "cell_type": "code",
   "execution_count": null,
   "id": "5098ad9c",
   "metadata": {},
   "outputs": [],
   "source": [
    "alpha[alpha['registration_date'] > alpha['latest_booking']]"
   ]
  },
  {
   "cell_type": "code",
   "execution_count": null,
   "id": "2ad839ee",
   "metadata": {
    "scrolled": true
   },
   "outputs": [],
   "source": [
    "beta[beta['registration_date'] > beta['latest_booking']]"
   ]
  },
  {
   "cell_type": "markdown",
   "id": "86e630e3",
   "metadata": {},
   "source": [
    "> Turns out Beta has some hotels which were registered after the latest booking, so this is a problem. Next we will handle those few cases."
   ]
  },
  {
   "cell_type": "code",
   "execution_count": null,
   "id": "f0183f30",
   "metadata": {},
   "outputs": [],
   "source": [
    "(beta['latest_booking'] - beta['registration_date']).mean()"
   ]
  },
  {
   "cell_type": "code",
   "execution_count": null,
   "id": "123b5748",
   "metadata": {},
   "outputs": [],
   "source": [
    "(beta['latest_booking'] - beta['registration_date']).describe()"
   ]
  },
  {
   "cell_type": "markdown",
   "id": "c80763eb",
   "metadata": {},
   "source": [
    "__Key findings__\n",
    "- The solution chosen was to replace the 'registration_date' of those affected by the overall series mean.\n",
    "- This was decided instead of simply dropping or keeping it like that because:\n",
    "\n",
    "1) I don't want to drop these Hotels as number 1 insight we are taking from this analysis is the Overlap, and the dates come as a secondary information which is helpful, yet not essential.\n",
    "\n",
    "2) Still, I will use the dates later on for the analysis, so insted of having the potential wrong data to mess up the whole series, I'll replace it with the series mean, this way it might not be correct, but at least won't affect overall statistics (or at least affect less)."
   ]
  },
  {
   "cell_type": "code",
   "execution_count": null,
   "id": "c18c6537",
   "metadata": {},
   "outputs": [],
   "source": [
    "beta.loc[\n",
    "    beta['registration_date'] > beta['latest_booking'],\n",
    "    'registration_date'\n",
    "] = beta.loc[\n",
    "        beta['registration_date'] > beta['latest_booking'],\n",
    "        'registration_date'\n",
    "] - pd.to_timedelta(249, 'day')"
   ]
  },
  {
   "cell_type": "code",
   "execution_count": null,
   "id": "b827b424",
   "metadata": {},
   "outputs": [],
   "source": [
    "beta[beta['registration_date'] > beta['latest_booking']]"
   ]
  },
  {
   "cell_type": "code",
   "execution_count": null,
   "id": "87574bf3",
   "metadata": {
    "scrolled": false
   },
   "outputs": [],
   "source": [
    "beta[beta['id'] == 460]"
   ]
  },
  {
   "cell_type": "markdown",
   "id": "4661db71",
   "metadata": {},
   "source": [
    "---\n",
    "\n",
    "## 3) Overlap Analysis\n",
    "\n",
    "- "
   ]
  },
  {
   "cell_type": "code",
   "execution_count": null,
   "id": "4debb5b6",
   "metadata": {},
   "outputs": [],
   "source": [
    "alpha['source'] = 'alpha'\n",
    "beta['source'] = 'beta'"
   ]
  },
  {
   "cell_type": "code",
   "execution_count": null,
   "id": "19640f62",
   "metadata": {},
   "outputs": [],
   "source": [
    "hotel_df = pd.concat([alpha, beta], ignore_index=True)"
   ]
  },
  {
   "cell_type": "code",
   "execution_count": null,
   "id": "64eb2ecb",
   "metadata": {},
   "outputs": [],
   "source": [
    "hotel_df.info()"
   ]
  },
  {
   "cell_type": "code",
   "execution_count": null,
   "id": "3e997910",
   "metadata": {},
   "outputs": [],
   "source": [
    "hotel_df.head()"
   ]
  },
  {
   "cell_type": "code",
   "execution_count": null,
   "id": "6ba59339",
   "metadata": {},
   "outputs": [],
   "source": [
    "hotel_df.tail()"
   ]
  },
  {
   "cell_type": "code",
   "execution_count": null,
   "id": "2a475d3e",
   "metadata": {},
   "outputs": [],
   "source": [
    "hotel_df['active_days'] = hotel_df['latest_booking'] - hotel_df['registration_date']\n",
    "hotel_df['active_days'] = hotel_df['active_days'].dt.days"
   ]
  },
  {
   "cell_type": "code",
   "execution_count": null,
   "id": "070cc5b5",
   "metadata": {},
   "outputs": [],
   "source": [
    "hotel_df.loc[hotel_df['source'] == 'alpha', 'active_days'].describe()"
   ]
  },
  {
   "cell_type": "code",
   "execution_count": null,
   "id": "e6e72dec",
   "metadata": {},
   "outputs": [],
   "source": [
    "hotel_df.loc[hotel_df['source'] == 'beta', 'active_days'].describe()"
   ]
  },
  {
   "cell_type": "code",
   "execution_count": null,
   "id": "5c8c88e8",
   "metadata": {},
   "outputs": [],
   "source": [
    "hotel_df['monthly_bookings'] = (hotel_df['total_bookings'] / hotel_df['active_days']) * 30"
   ]
  },
  {
   "cell_type": "code",
   "execution_count": null,
   "id": "52f0a10d",
   "metadata": {},
   "outputs": [],
   "source": [
    "hotel_df.loc[hotel_df['source'] == 'alpha', 'monthly_bookings'].describe()"
   ]
  },
  {
   "cell_type": "code",
   "execution_count": null,
   "id": "d05ff479",
   "metadata": {},
   "outputs": [],
   "source": [
    "hotel_df.loc[hotel_df['source'] == 'beta', 'monthly_bookings'].describe()"
   ]
  },
  {
   "cell_type": "markdown",
   "id": "9fdd483f",
   "metadata": {},
   "source": [
    "# Gerando estatísticas"
   ]
  },
  {
   "cell_type": "code",
   "execution_count": null,
   "id": "f0975531",
   "metadata": {},
   "outputs": [],
   "source": [
    "summary_statistics = pd.DataFrame(index=['hotels'])\n",
    "summary_statistics['alpha_hotels'] = hotel_df[hotel_df['source'] == 'alpha'].shape[0]\n",
    "summary_statistics['beta_hotels'] = hotel_df[hotel_df['source'] == 'beta'].shape[0]\n",
    "summary_statistics['overlap'] = hotel_df.duplicated('registration_id').sum()\n",
    "summary_statistics['alpha_exclusive'] = summary_statistics['alpha_hotels'] - summary_statistics['overlap']\n",
    "summary_statistics['beta_exclusive'] = summary_statistics['beta_hotels'] - summary_statistics['overlap']\n",
    "summary_statistics"
   ]
  },
  {
   "cell_type": "code",
   "execution_count": null,
   "id": "f18cdf49",
   "metadata": {},
   "outputs": [],
   "source": [
    "summary_statistics = summary_statistics.transpose()"
   ]
  },
  {
   "cell_type": "code",
   "execution_count": null,
   "id": "2389fead",
   "metadata": {
    "scrolled": false
   },
   "outputs": [],
   "source": [
    "fig, (ax1, ax2) = plt.subplots(1, 2, figsize=(14, 5))\n",
    "\n",
    "data = summary_statistics.loc[['alpha_exclusive', 'overlap'], 'hotels']\n",
    "\n",
    "ax1.pie(\n",
    "    data,\n",
    "    #labels=['Alpha exclusive', 'Overlapping with Beta'],\n",
    "    autopct=lambda p: '{:.0f}% ({:.0f})'.format(p,(p/100)*data.sum()),\n",
    "    colors=['#77db0a', '#ff4076'],\n",
    "    explode=[0.07, 0],\n",
    "    startangle=0,\n",
    "    shadow=True\n",
    ")\n",
    "ax1.set_title(\"Alpha's hotels analysis\" , weight='bold')\n",
    "ax1.legend(['Alpha exclusive', 'Overlapping with Beta'], loc='lower center', bbox_to_anchor=(0.5, -0.1))\n",
    "\n",
    "data = summary_statistics.loc[['beta_exclusive', 'overlap'], 'hotels']\n",
    "\n",
    "ax2.pie(\n",
    "    data,\n",
    "    #labels=['Beta exclusive', 'Overlapping with Alpha'],\n",
    "    autopct=lambda p: '{:.0f}% ({:.0f})'.format(p,(p/100)*data.sum()),\n",
    "    colors=['#77db0a', '#ff4076'],\n",
    "    explode=[0.07, 0],\n",
    "    startangle=0,\n",
    "    shadow=True\n",
    ")\n",
    "ax2.set_title(\"Beta's hotels analysis\" , weight='semibold')\n",
    "ax2.legend(['Beta exclusive', 'Overlapping with Alpha'], loc='lower center', bbox_to_anchor=(0.5, -0.1))\n",
    "\n",
    "plt.show()"
   ]
  },
  {
   "cell_type": "markdown",
   "id": "1595ae8c",
   "metadata": {},
   "source": [
    "# Isolando o overlap"
   ]
  },
  {
   "cell_type": "code",
   "execution_count": null,
   "id": "afa03edc",
   "metadata": {},
   "outputs": [],
   "source": [
    "overlap = alpha.loc[alpha['registration_id'].isin(beta['registration_id']), 'registration_id']\n",
    "overlap.info()"
   ]
  },
  {
   "cell_type": "code",
   "execution_count": null,
   "id": "cf27721a",
   "metadata": {},
   "outputs": [],
   "source": [
    "hotel_df.duplicated('registration_id').value_counts()"
   ]
  },
  {
   "cell_type": "code",
   "execution_count": null,
   "id": "3fae04d5",
   "metadata": {
    "scrolled": true
   },
   "outputs": [],
   "source": [
    "overlap = beta.loc[beta['registration_id'].isin(alpha['registration_id']), 'registration_id']\n",
    "overlap.info()"
   ]
  },
  {
   "cell_type": "code",
   "execution_count": null,
   "id": "a7773a6d",
   "metadata": {
    "scrolled": false
   },
   "outputs": [],
   "source": [
    "hotel_df[hotel_df.duplicated('registration_id', keep=False)].sort_values('registration_id')"
   ]
  },
  {
   "cell_type": "code",
   "execution_count": null,
   "id": "d1461970",
   "metadata": {},
   "outputs": [],
   "source": [
    "beta[beta['registration_id'].isin(alpha['registration_id'])].sort_values('registration_id')"
   ]
  },
  {
   "cell_type": "code",
   "execution_count": null,
   "id": "1ccf3131",
   "metadata": {
    "scrolled": false
   },
   "outputs": [],
   "source": [
    "alpha[alpha['registration_id'].isin(beta['registration_id'])].sort_values('registration_id')"
   ]
  },
  {
   "cell_type": "code",
   "execution_count": null,
   "id": "54ee7d4f",
   "metadata": {},
   "outputs": [],
   "source": [
    "alpha.duplicated('registration_id').value_counts()"
   ]
  },
  {
   "cell_type": "code",
   "execution_count": null,
   "id": "8cda41cc",
   "metadata": {},
   "outputs": [],
   "source": [
    "beta.duplicated('registration_id').value_counts()"
   ]
  },
  {
   "cell_type": "code",
   "execution_count": null,
   "id": "b41bc30f",
   "metadata": {},
   "outputs": [],
   "source": [
    "alpha[alpha.duplicated('registration_id', keep=False)].sort_values('registration_id')"
   ]
  },
  {
   "cell_type": "code",
   "execution_count": null,
   "id": "33460bdb",
   "metadata": {},
   "outputs": [],
   "source": []
  },
  {
   "cell_type": "code",
   "execution_count": null,
   "id": "e9dc8cc8",
   "metadata": {},
   "outputs": [],
   "source": []
  },
  {
   "cell_type": "markdown",
   "id": "aa944d30",
   "metadata": {},
   "source": [
    "# Analisando monthly bookings"
   ]
  },
  {
   "cell_type": "code",
   "execution_count": null,
   "id": "8d517f8f",
   "metadata": {},
   "outputs": [],
   "source": [
    "hotel_df['monthly_bookings'].describe()"
   ]
  },
  {
   "cell_type": "code",
   "execution_count": null,
   "id": "a833ed39",
   "metadata": {},
   "outputs": [],
   "source": [
    "alpha_overlap = hotel_df.loc[\n",
    "    (hotel_df['source'] == 'alpha') & \n",
    "    (hotel_df['registration_id'].isin(overlap)),\n",
    "    ['registration_id', 'monthly_bookings']\n",
    "]\n",
    "alpha_overlap.rename({'monthly_bookings': 'monthly_bookings_alpha'}, axis=1, inplace=True)\n",
    "alpha_overlap.set_index('registration_id', inplace=True)\n",
    "alpha_overlap.head()"
   ]
  },
  {
   "cell_type": "code",
   "execution_count": null,
   "id": "d2740c3d",
   "metadata": {},
   "outputs": [],
   "source": [
    "beta_overlap = hotel_df.loc[\n",
    "    (hotel_df['source'] == 'beta') & \n",
    "    (hotel_df['registration_id'].isin(overlap)),\n",
    "    ['registration_id', 'monthly_bookings']\n",
    "]\n",
    "beta_overlap.rename({'monthly_bookings': 'monthly_bookings_beta'}, axis=1, inplace=True)\n",
    "beta_overlap.set_index('registration_id', inplace=True)\n",
    "beta_overlap.head()"
   ]
  },
  {
   "cell_type": "code",
   "execution_count": null,
   "id": "62aa79f1",
   "metadata": {},
   "outputs": [],
   "source": [
    "overlap_monthly_bookings = pd.concat([alpha_overlap, beta_overlap], ignore_index=False)\n",
    "overlap_monthly_bookings"
   ]
  },
  {
   "cell_type": "code",
   "execution_count": null,
   "id": "77c44008",
   "metadata": {},
   "outputs": [],
   "source": [
    "overlap"
   ]
  },
  {
   "cell_type": "code",
   "execution_count": null,
   "id": "ef3a2f80",
   "metadata": {},
   "outputs": [],
   "source": []
  }
 ],
 "metadata": {
  "kernelspec": {
   "display_name": "Python 3 (ipykernel)",
   "language": "python",
   "name": "python3"
  },
  "language_info": {
   "codemirror_mode": {
    "name": "ipython",
    "version": 3
   },
   "file_extension": ".py",
   "mimetype": "text/x-python",
   "name": "python",
   "nbconvert_exporter": "python",
   "pygments_lexer": "ipython3",
   "version": "3.8.16"
  }
 },
 "nbformat": 4,
 "nbformat_minor": 5
}
